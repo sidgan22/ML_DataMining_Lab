{
 "cells": [
  {
   "cell_type": "code",
   "execution_count": 2,
   "metadata": {},
   "outputs": [
    {
     "data": {
      "text/plain": [
       "1"
      ]
     },
     "execution_count": 2,
     "metadata": {},
     "output_type": "execute_result"
    }
   ],
   "source": [
    "#Question 1\n",
    "\n",
    "import numpy as np\n",
    "ar1=np.array([1,3,9,6])\n",
    "ar2=np.array([3,3,6,9])\n",
    "np.sum(ar1==ar2)"
   ]
  },
  {
   "cell_type": "code",
   "execution_count": 3,
   "metadata": {},
   "outputs": [
    {
     "name": "stdout",
     "output_type": "stream",
     "text": [
      "[[67 81  2]\n",
      " [65 53 66]\n",
      " [66 38 18]\n",
      " [79 46 98]\n",
      " [41 54 64]\n",
      " [75 12 38]\n",
      " [90 37 74]\n",
      " [23 55 79]\n",
      " [96 23 80]\n",
      " [79 19 65]]\n"
     ]
    }
   ],
   "source": [
    "#Question 2\n",
    "#(a)\n",
    "\n",
    "matrix_rand=np.random.randint(1,100,(10,3))\n",
    "print(matrix_rand)"
   ]
  },
  {
   "cell_type": "code",
   "execution_count": 5,
   "metadata": {},
   "outputs": [
    {
     "name": "stdout",
     "output_type": "stream",
     "text": [
      "(10, 3)\n"
     ]
    }
   ],
   "source": [
    "#2.(b)\n",
    "print(matrix_rand.shape)"
   ]
  },
  {
   "cell_type": "code",
   "execution_count": 6,
   "metadata": {},
   "outputs": [
    {
     "name": "stdout",
     "output_type": "stream",
     "text": [
      "10\n"
     ]
    }
   ],
   "source": [
    "#2.(c) for rows\n",
    "print(matrix_rand.shape[0])"
   ]
  },
  {
   "cell_type": "code",
   "execution_count": 7,
   "metadata": {},
   "outputs": [
    {
     "name": "stdout",
     "output_type": "stream",
     "text": [
      "3\n"
     ]
    }
   ],
   "source": [
    "#2.(d) for columns\n",
    "print(matrix_rand.shape[1])"
   ]
  },
  {
   "cell_type": "code",
   "execution_count": 8,
   "metadata": {},
   "outputs": [
    {
     "name": "stdout",
     "output_type": "stream",
     "text": [
      "[[67 81  1]\n",
      " [65 53  0]\n",
      " [66 38  1]\n",
      " [79 46  0]\n",
      " [41 54  0]\n",
      " [75 12  0]\n",
      " [90 37  0]\n",
      " [23 55  0]\n",
      " [96 23  0]\n",
      " [79 19  0]]\n"
     ]
    }
   ],
   "source": [
    "#2.(e) Third column change\n",
    "\n",
    "for i in range(matrix_rand.shape[0]):\n",
    "    if (matrix_rand[i][0]+matrix_rand[i][1])%4==0:\n",
    "        matrix_rand[i][2]=1\n",
    "    else:\n",
    "        matrix_rand[i][2]=0\n",
    "\n",
    "print(matrix_rand)"
   ]
  },
  {
   "cell_type": "code",
   "execution_count": 9,
   "metadata": {},
   "outputs": [],
   "source": [
    "#Question 3\n",
    "import pandas as pd\n",
    "dataframe=pd.DataFrame(matrix_rand,columns=[\"X1\",\"X2\",\"Y\"])"
   ]
  },
  {
   "cell_type": "code",
   "execution_count": 10,
   "metadata": {},
   "outputs": [
    {
     "data": {
      "text/html": [
       "<div>\n",
       "<style scoped>\n",
       "    .dataframe tbody tr th:only-of-type {\n",
       "        vertical-align: middle;\n",
       "    }\n",
       "\n",
       "    .dataframe tbody tr th {\n",
       "        vertical-align: top;\n",
       "    }\n",
       "\n",
       "    .dataframe thead th {\n",
       "        text-align: right;\n",
       "    }\n",
       "</style>\n",
       "<table border=\"1\" class=\"dataframe\">\n",
       "  <thead>\n",
       "    <tr style=\"text-align: right;\">\n",
       "      <th></th>\n",
       "      <th>X1</th>\n",
       "      <th>X2</th>\n",
       "      <th>Y</th>\n",
       "    </tr>\n",
       "  </thead>\n",
       "  <tbody>\n",
       "    <tr>\n",
       "      <td>0</td>\n",
       "      <td>67</td>\n",
       "      <td>81</td>\n",
       "      <td>1</td>\n",
       "    </tr>\n",
       "    <tr>\n",
       "      <td>1</td>\n",
       "      <td>65</td>\n",
       "      <td>53</td>\n",
       "      <td>0</td>\n",
       "    </tr>\n",
       "    <tr>\n",
       "      <td>2</td>\n",
       "      <td>66</td>\n",
       "      <td>38</td>\n",
       "      <td>1</td>\n",
       "    </tr>\n",
       "  </tbody>\n",
       "</table>\n",
       "</div>"
      ],
      "text/plain": [
       "   X1  X2  Y\n",
       "0  67  81  1\n",
       "1  65  53  0\n",
       "2  66  38  1"
      ]
     },
     "execution_count": 10,
     "metadata": {},
     "output_type": "execute_result"
    }
   ],
   "source": [
    "dataframe.head(3)"
   ]
  },
  {
   "cell_type": "code",
   "execution_count": 11,
   "metadata": {},
   "outputs": [
    {
     "data": {
      "text/html": [
       "<div>\n",
       "<style scoped>\n",
       "    .dataframe tbody tr th:only-of-type {\n",
       "        vertical-align: middle;\n",
       "    }\n",
       "\n",
       "    .dataframe tbody tr th {\n",
       "        vertical-align: top;\n",
       "    }\n",
       "\n",
       "    .dataframe thead th {\n",
       "        text-align: right;\n",
       "    }\n",
       "</style>\n",
       "<table border=\"1\" class=\"dataframe\">\n",
       "  <thead>\n",
       "    <tr style=\"text-align: right;\">\n",
       "      <th></th>\n",
       "      <th>X1</th>\n",
       "      <th>X2</th>\n",
       "      <th>Y</th>\n",
       "    </tr>\n",
       "  </thead>\n",
       "  <tbody>\n",
       "    <tr>\n",
       "      <td>0</td>\n",
       "      <td>67</td>\n",
       "      <td>81</td>\n",
       "      <td>1</td>\n",
       "    </tr>\n",
       "    <tr>\n",
       "      <td>1</td>\n",
       "      <td>65</td>\n",
       "      <td>53</td>\n",
       "      <td>0</td>\n",
       "    </tr>\n",
       "    <tr>\n",
       "      <td>2</td>\n",
       "      <td>66</td>\n",
       "      <td>38</td>\n",
       "      <td>1</td>\n",
       "    </tr>\n",
       "    <tr>\n",
       "      <td>3</td>\n",
       "      <td>79</td>\n",
       "      <td>46</td>\n",
       "      <td>0</td>\n",
       "    </tr>\n",
       "    <tr>\n",
       "      <td>4</td>\n",
       "      <td>41</td>\n",
       "      <td>54</td>\n",
       "      <td>0</td>\n",
       "    </tr>\n",
       "  </tbody>\n",
       "</table>\n",
       "</div>"
      ],
      "text/plain": [
       "   X1  X2  Y\n",
       "0  67  81  1\n",
       "1  65  53  0\n",
       "2  66  38  1\n",
       "3  79  46  0\n",
       "4  41  54  0"
      ]
     },
     "execution_count": 11,
     "metadata": {},
     "output_type": "execute_result"
    }
   ],
   "source": [
    "dataframe.head()"
   ]
  },
  {
   "cell_type": "code",
   "execution_count": 13,
   "metadata": {},
   "outputs": [
    {
     "data": {
      "image/png": "[encoded data removed]",
      "text/plain": [
       "<Figure size 432x288 with 1 Axes>"
      ]
     },
     "metadata": {
      "needs_background": "light"
     },
     "output_type": "display_data"
    }
   ],
   "source": [
    "#Question 4\n",
    "\n",
    "import matplotlib.pyplot as plt\n",
    "col=dataframe.Y.map({0:'b',1:'r'})\n",
    "dataframe.plot.scatter(x='X1',y='X2',c=col)\n",
    "plt.show()"
   ]
  },
  {
   "cell_type": "code",
   "execution_count": 14,
   "metadata": {},
   "outputs": [
    {
     "name": "stdout",
     "output_type": "stream",
     "text": [
      "0     196\n",
      "1     144\n",
      "2     784\n",
      "3    1089\n",
      "4     169\n",
      "5    3969\n",
      "6    2809\n",
      "7    1024\n",
      "8    5329\n",
      "9    3600\n",
      "dtype: int32\n"
     ]
    }
   ],
   "source": [
    "#Question 5\n",
    "#5.(a) finding squared error\n",
    "\n",
    "print(np.square(dataframe['X1']-dataframe['X2']))"
   ]
  },
  {
   "cell_type": "code",
   "execution_count": 16,
   "metadata": {},
   "outputs": [
    {
     "name": "stdout",
     "output_type": "stream",
     "text": [
      "19113\n"
     ]
    }
   ],
   "source": [
    "#5.(b) for the sum of squared error in 5.a()\n",
    "\n",
    "sumof_sqrderror=np.sum(np.square(dataframe['X1']-dataframe['X2']))\n",
    "print(sumof_sqrderror)"
   ]
  },
  {
   "cell_type": "code",
   "execution_count": 22,
   "metadata": {},
   "outputs": [
    {
     "name": "stdout",
     "output_type": "stream",
     "text": [
      "Euclidean:  138.2497739600322\n",
      "default:  138.2497739600322\n"
     ]
    }
   ],
   "source": [
    "#Question 6 for the eucledian distance\n",
    "\n",
    "print(\"Euclidean: \",np.linalg.norm(dataframe['X1']-dataframe['X2']))\n",
    "\n",
    "print(\"default: \",np.sqrt(sumof_sqrderror))"
   ]
  },
  {
   "cell_type": "code",
   "execution_count": 26,
   "metadata": {},
   "outputs": [],
   "source": [
    "#Question 7\n",
    "\n",
    "newvector=np.random.randint(100,size=(1,2))"
   ]
  },
  {
   "cell_type": "code",
   "execution_count": 27,
   "metadata": {},
   "outputs": [],
   "source": [
    "dist=np.zeros(matrix_rand.shape[0])"
   ]
  },
  {
   "cell_type": "code",
   "execution_count": 28,
   "metadata": {},
   "outputs": [],
   "source": [
    "for i in range(matrix_rand.shape[0]):\n",
    "    dist[i]=np.linalg.norm(matrix_rand[i][0:2]-newvector)"
   ]
  },
  {
   "cell_type": "code",
   "execution_count": 29,
   "metadata": {},
   "outputs": [
    {
     "name": "stdout",
     "output_type": "stream",
     "text": [
      "dist of the vector [[62 46]]\n",
      "[35.35533906  7.61577311  8.94427191 17.         22.47220505 36.40054945\n",
      " 29.41088234 40.02499219 41.0487515  31.90611227]\n"
     ]
    }
   ],
   "source": [
    "print(\"dist of the vector\",newvector)\n",
    "print(dist)"
   ]
  },
  {
   "cell_type": "code",
   "execution_count": 30,
   "metadata": {},
   "outputs": [
    {
     "name": "stdout",
     "output_type": "stream",
     "text": [
      "Say Original Matrix\n",
      "[[1 2 3]\n",
      " [2 3 4]]\n",
      "Manipulated matrx with column\n",
      "[[1 2 3 6]\n",
      " [2 3 4 7]]\n"
     ]
    }
   ],
   "source": [
    "#Question 8\n",
    "\n",
    "Mat_A=np.array([[1,2,3],[2,3,4]])\n",
    "print(\"Say Original Matrix\")\n",
    "print(Mat_A)\n",
    "Add_Col=np.array([6,7])\n",
    "Mat_A=np.column_stack((Mat_A,Add_Col))\n",
    "print(\"Manipulated matrx with column\")\n",
    "print(Mat_A)"
   ]
  },
  {
   "cell_type": "code",
   "execution_count": 31,
   "metadata": {},
   "outputs": [
    {
     "name": "stdout",
     "output_type": "stream",
     "text": [
      "Manipulated matrix with row\n",
      "[[1 2 3 6]\n",
      " [2 3 4 7]\n",
      " [1 1 1 1]]\n"
     ]
    }
   ],
   "source": [
    "Add_Row=np.array([1,1,1,1])\n",
    "Mat_A=np.vstack((Mat_A,Add_Row))\n",
    "print(\"Manipulated matrix with row\")\n",
    "print(Mat_A)"
   ]
  },
  {
   "cell_type": "code",
   "execution_count": 32,
   "metadata": {},
   "outputs": [],
   "source": [
    "#Question 9\n",
    "\n",
    "newmatr=np.random.randint(100,size=(10,2))\n",
    "dist_matr=np.zeros((matrix_rand.shape[0]*newmatr.shape[0],3))"
   ]
  },
  {
   "cell_type": "code",
   "execution_count": 33,
   "metadata": {},
   "outputs": [
    {
     "name": "stdout",
     "output_type": "stream",
     "text": [
      "(100, 3)\n"
     ]
    }
   ],
   "source": [
    "print(dist_matr.shape)"
   ]
  },
  {
   "cell_type": "code",
   "execution_count": 34,
   "metadata": {},
   "outputs": [
    {
     "name": "stdout",
     "output_type": "stream",
     "text": [
      "[0 1 2 3 4 5 6 7 8 9]\n"
     ]
    }
   ],
   "source": [
    "print(np.arange(10))"
   ]
  },
  {
   "cell_type": "code",
   "execution_count": 35,
   "metadata": {},
   "outputs": [],
   "source": [
    "from sklearn.metrics.pairwise import euclidean_distances\n",
    "a=0\n",
    "euc_matr=euclidean_distances(matrix_rand[:,0:2],newmatr)\n",
    "for i in range(matrix_rand.shape[0]):\n",
    "    for j in range(newmatr.shape[0]):\n",
    "        dist_matr[a][0]=i\n",
    "        dist_matr[a][1]=j\n",
    "        dist_matr[a][2]=euc_matr[i][j]\n",
    "        a=a+1"
   ]
  },
  {
   "cell_type": "code",
   "execution_count": 36,
   "metadata": {},
   "outputs": [
    {
     "name": "stdout",
     "output_type": "stream",
     "text": [
      "[[ 0.          0.         19.84943324]\n",
      " [ 0.          1.         14.14213562]\n",
      " [ 0.          2.         11.18033989]\n",
      " [ 0.          3.         28.44292531]\n",
      " [ 0.          4.         22.47220505]\n",
      " [ 0.          5.         31.144823  ]\n",
      " [ 0.          6.         68.02940541]\n",
      " [ 0.          7.         73.        ]\n",
      " [ 0.          8.         26.17250466]\n",
      " [ 0.          9.         29.52964612]\n",
      " [ 1.          0.         19.84943324]\n",
      " [ 1.          1.         28.63564213]\n",
      " [ 1.          2.         19.31320792]\n",
      " [ 1.          3.         37.80211634]\n",
      " [ 1.          4.         23.34523506]\n",
      " [ 1.          5.          3.16227766]\n",
      " [ 1.          6.         60.        ]\n",
      " [ 1.          7.         45.04442252]\n",
      " [ 1.          8.         34.6554469 ]\n",
      " [ 1.          9.         50.47771786]\n",
      " [ 2.          0.         31.30495168]\n",
      " [ 2.          1.         43.01162634]\n",
      " [ 2.          2.         33.54101966]\n",
      " [ 2.          3.         47.80167361]\n",
      " [ 2.          4.         35.84689666]\n",
      " [ 2.          5.         12.16552506]\n",
      " [ 2.          6.         62.8171951 ]\n",
      " [ 2.          7.         30.01666204]\n",
      " [ 2.          8.         47.16990566]\n",
      " [ 2.          9.         63.07138812]\n",
      " [ 3.          0.         20.02498439]\n",
      " [ 3.          1.         42.01190308]\n",
      " [ 3.          2.         25.96150997]\n",
      " [ 3.          3.         34.        ]\n",
      " [ 3.          4.         38.60051813]\n",
      " [ 3.          5.         15.5241747 ]\n",
      " [ 3.          6.         74.33034374]\n",
      " [ 3.          7.         39.84971769]\n",
      " [ 3.          8.         49.67896939]\n",
      " [ 3.          9.         50.96076922]\n",
      " [ 4.          0.         40.80441153]\n",
      " [ 4.          1.         27.73084925]\n",
      " [ 4.          2.         35.35533906]\n",
      " [ 4.          3.         58.30951895]\n",
      " [ 4.          4.         16.55294536]\n",
      " [ 4.          5.         23.34523506]\n",
      " [ 4.          6.         36.01388621]\n",
      " [ 4.          7.         52.83937925]\n",
      " [ 4.          8.         24.        ]\n",
      " [ 4.          9.         66.21933252]\n",
      " [ 5.          0.         54.23098745]\n",
      " [ 5.          1.         70.51950085]\n",
      " [ 5.          2.         59.07622195]\n",
      " [ 5.          3.         67.05221846]\n",
      " [ 5.          4.         63.07138812]\n",
      " [ 5.          5.         39.56008089]\n",
      " [ 5.          6.         81.12336285]\n",
      " [ 5.          7.          8.94427191]\n",
      " [ 5.          8.         74.24284477]\n",
      " [ 5.          9.         84.92938243]\n",
      " [ 6.          0.         30.6757233 ]\n",
      " [ 6.          1.         55.97320788]\n",
      " [ 6.          2.         38.47076812]\n",
      " [ 6.          3.         39.3192065 ]\n",
      " [ 6.          4.         52.80151513]\n",
      " [ 6.          5.         29.06888371]\n",
      " [ 6.          6.         86.49277426]\n",
      " [ 6.          7.         37.01351105]\n",
      " [ 6.          8.         63.89053138]\n",
      " [ 6.          9.         58.07753438]\n",
      " [ 7.          0.         58.05170109]\n",
      " [ 7.          1.         38.41874542]\n",
      " [ 7.          2.         51.54609588]\n",
      " [ 7.          3.         75.        ]\n",
      " [ 7.          4.         28.65309756]\n",
      " [ 7.          5.         41.30375286]\n",
      " [ 7.          6.         18.11077028]\n",
      " [ 7.          7.         64.38167441]\n",
      " [ 7.          8.         29.20616373]\n",
      " [ 7.          9.         80.62257748]\n",
      " [ 8.          0.         45.88027899]\n",
      " [ 8.          1.         70.60453243]\n",
      " [ 8.          2.         53.66563146]\n",
      " [ 8.          3.         53.00943312]\n",
      " [ 8.          4.         66.48308055]\n",
      " [ 8.          5.         41.86884283]\n",
      " [ 8.          6.         95.81753493]\n",
      " [ 8.          7.         32.64965543]\n",
      " [ 8.          8.         77.78174593]\n",
      " [ 8.          9.         72.0624729 ]\n",
      " [ 9.          0.         47.01063709]\n",
      " [ 9.          1.         65.3911309 ]\n",
      " [ 9.          2.         52.46903849]\n",
      " [ 9.          3.         59.20304046]\n",
      " [ 9.          4.         58.83026432]\n",
      " [ 9.          5.         34.43835072]\n",
      " [ 9.          6.         81.43709229]\n",
      " [ 9.          7.         16.2788206 ]\n",
      " [ 9.          8.         70.17834424]\n",
      " [ 9.          9.         77.27871635]]\n"
     ]
    }
   ],
   "source": [
    "print(dist_matr)"
   ]
  },
  {
   "cell_type": "code",
   "execution_count": 37,
   "metadata": {},
   "outputs": [
    {
     "name": "stdout",
     "output_type": "stream",
     "text": [
      "[[ 1.          5.          3.16227766]\n",
      " [ 5.          7.          8.94427191]\n",
      " [ 0.          2.         11.18033989]\n",
      " [ 2.          5.         12.16552506]\n",
      " [ 0.          1.         14.14213562]\n",
      " [ 3.          5.         15.5241747 ]\n",
      " [ 9.          7.         16.2788206 ]\n",
      " [ 4.          4.         16.55294536]\n",
      " [ 7.          6.         18.11077028]\n",
      " [ 1.          2.         19.31320792]\n",
      " [ 0.          0.         19.84943324]\n",
      " [ 1.          0.         19.84943324]\n",
      " [ 3.          0.         20.02498439]\n",
      " [ 0.          4.         22.47220505]\n",
      " [ 1.          4.         23.34523506]\n",
      " [ 4.          5.         23.34523506]\n",
      " [ 4.          8.         24.        ]\n",
      " [ 3.          2.         25.96150997]\n",
      " [ 0.          8.         26.17250466]\n",
      " [ 4.          1.         27.73084925]\n",
      " [ 0.          3.         28.44292531]\n",
      " [ 1.          1.         28.63564213]\n",
      " [ 7.          4.         28.65309756]\n",
      " [ 6.          5.         29.06888371]\n",
      " [ 7.          8.         29.20616373]\n",
      " [ 0.          9.         29.52964612]\n",
      " [ 2.          7.         30.01666204]\n",
      " [ 6.          0.         30.6757233 ]\n",
      " [ 0.          5.         31.144823  ]\n",
      " [ 2.          0.         31.30495168]\n",
      " [ 8.          7.         32.64965543]\n",
      " [ 2.          2.         33.54101966]\n",
      " [ 3.          3.         34.        ]\n",
      " [ 9.          5.         34.43835072]\n",
      " [ 1.          8.         34.6554469 ]\n",
      " [ 4.          2.         35.35533906]\n",
      " [ 2.          4.         35.84689666]\n",
      " [ 4.          6.         36.01388621]\n",
      " [ 6.          7.         37.01351105]\n",
      " [ 1.          3.         37.80211634]\n",
      " [ 7.          1.         38.41874542]\n",
      " [ 6.          2.         38.47076812]\n",
      " [ 3.          4.         38.60051813]\n",
      " [ 6.          3.         39.3192065 ]\n",
      " [ 5.          5.         39.56008089]\n",
      " [ 3.          7.         39.84971769]\n",
      " [ 4.          0.         40.80441153]\n",
      " [ 7.          5.         41.30375286]\n",
      " [ 8.          5.         41.86884283]\n",
      " [ 3.          1.         42.01190308]\n",
      " [ 2.          1.         43.01162634]\n",
      " [ 1.          7.         45.04442252]\n",
      " [ 8.          0.         45.88027899]\n",
      " [ 9.          0.         47.01063709]\n",
      " [ 2.          8.         47.16990566]\n",
      " [ 2.          3.         47.80167361]\n",
      " [ 3.          8.         49.67896939]\n",
      " [ 1.          9.         50.47771786]\n",
      " [ 3.          9.         50.96076922]\n",
      " [ 7.          2.         51.54609588]\n",
      " [ 9.          2.         52.46903849]\n",
      " [ 6.          4.         52.80151513]\n",
      " [ 4.          7.         52.83937925]\n",
      " [ 8.          3.         53.00943312]\n",
      " [ 8.          2.         53.66563146]\n",
      " [ 5.          0.         54.23098745]\n",
      " [ 6.          1.         55.97320788]\n",
      " [ 7.          0.         58.05170109]\n",
      " [ 6.          9.         58.07753438]\n",
      " [ 4.          3.         58.30951895]\n",
      " [ 9.          4.         58.83026432]\n",
      " [ 5.          2.         59.07622195]\n",
      " [ 9.          3.         59.20304046]\n",
      " [ 1.          6.         60.        ]\n",
      " [ 2.          6.         62.8171951 ]\n",
      " [ 2.          9.         63.07138812]\n",
      " [ 5.          4.         63.07138812]\n",
      " [ 6.          8.         63.89053138]\n",
      " [ 7.          7.         64.38167441]\n",
      " [ 9.          1.         65.3911309 ]\n",
      " [ 4.          9.         66.21933252]\n",
      " [ 8.          4.         66.48308055]\n",
      " [ 5.          3.         67.05221846]\n",
      " [ 0.          6.         68.02940541]\n",
      " [ 9.          8.         70.17834424]\n",
      " [ 5.          1.         70.51950085]\n",
      " [ 8.          1.         70.60453243]\n",
      " [ 8.          9.         72.0624729 ]\n",
      " [ 0.          7.         73.        ]\n",
      " [ 5.          8.         74.24284477]\n",
      " [ 3.          6.         74.33034374]\n",
      " [ 7.          3.         75.        ]\n",
      " [ 9.          9.         77.27871635]\n",
      " [ 8.          8.         77.78174593]\n",
      " [ 7.          9.         80.62257748]\n",
      " [ 5.          6.         81.12336285]\n",
      " [ 9.          6.         81.43709229]\n",
      " [ 5.          9.         84.92938243]\n",
      " [ 6.          6.         86.49277426]\n",
      " [ 8.          6.         95.81753493]]\n"
     ]
    }
   ],
   "source": [
    "#Question 10 Sorting matrix based on column\n",
    "\n",
    "sort_matr=dist_matr[dist_matr[:,2].argsort()]\n",
    "print(sort_matr)"
   ]
  },
  {
   "cell_type": "code",
   "execution_count": 39,
   "metadata": {},
   "outputs": [
    {
     "name": "stdout",
     "output_type": "stream",
     "text": [
      "[[ 1.          5.          3.16227766]\n",
      " [ 5.          7.          8.94427191]\n",
      " [ 0.          2.         11.18033989]\n",
      " [ 2.          5.         12.16552506]]\n"
     ]
    }
   ],
   "source": [
    "#Question 11\n",
    "\n",
    "a=4  #can give whatever the a rows that we want\n",
    "ath_sortd_matr=sort_matr[0:a,:]\n",
    "print(ath_sortd_matr)"
   ]
  },
  {
   "cell_type": "code",
   "execution_count": 40,
   "metadata": {},
   "outputs": [
    {
     "name": "stdout",
     "output_type": "stream",
     "text": [
      "1\n",
      "0\n",
      "0\n",
      "0\n"
     ]
    }
   ],
   "source": [
    "#Question 12\n",
    "\n",
    "for row in range(ath_sortd_matr.shape[0]):\n",
    "    count_of_one=np.count_nonzero(ath_sortd_matr[row]==1)\n",
    "    count_of_zero=np.count_nonzero(ath_sortd_matr[row]==0)\n",
    "    if count_of_one > count_of_zero:\n",
    "        print(1)\n",
    "    else:\n",
    "        print(0)"
   ]
  },
  {
   "cell_type": "code",
   "execution_count": 42,
   "metadata": {},
   "outputs": [],
   "source": [
    "#Part B\n",
    "#(a)\n",
    "\n",
    "dtafrm_diab=pd.read_csv('diabetes.csv')"
   ]
  },
  {
   "cell_type": "code",
   "execution_count": 48,
   "metadata": {},
   "outputs": [
    {
     "data": {
      "text/html": [
       "<div>\n",
       "<style scoped>\n",
       "    .dataframe tbody tr th:only-of-type {\n",
       "        vertical-align: middle;\n",
       "    }\n",
       "\n",
       "    .dataframe tbody tr th {\n",
       "        vertical-align: top;\n",
       "    }\n",
       "\n",
       "    .dataframe thead th {\n",
       "        text-align: right;\n",
       "    }\n",
       "</style>\n",
       "<table border=\"1\" class=\"dataframe\">\n",
       "  <thead>\n",
       "    <tr style=\"text-align: right;\">\n",
       "      <th></th>\n",
       "      <th>Pregnancies</th>\n",
       "      <th>Glucose</th>\n",
       "      <th>BloodPressure</th>\n",
       "      <th>SkinThickness</th>\n",
       "      <th>Insulin</th>\n",
       "      <th>BMI</th>\n",
       "      <th>DiabetesPedigreeFunction</th>\n",
       "      <th>Age</th>\n",
       "      <th>Outcome</th>\n",
       "    </tr>\n",
       "  </thead>\n",
       "  <tbody>\n",
       "    <tr>\n",
       "      <td>0</td>\n",
       "      <td>6</td>\n",
       "      <td>148</td>\n",
       "      <td>72</td>\n",
       "      <td>35</td>\n",
       "      <td>0</td>\n",
       "      <td>33.6</td>\n",
       "      <td>0.627</td>\n",
       "      <td>50</td>\n",
       "      <td>1</td>\n",
       "    </tr>\n",
       "    <tr>\n",
       "      <td>1</td>\n",
       "      <td>1</td>\n",
       "      <td>85</td>\n",
       "      <td>66</td>\n",
       "      <td>29</td>\n",
       "      <td>0</td>\n",
       "      <td>26.6</td>\n",
       "      <td>0.351</td>\n",
       "      <td>31</td>\n",
       "      <td>0</td>\n",
       "    </tr>\n",
       "    <tr>\n",
       "      <td>2</td>\n",
       "      <td>8</td>\n",
       "      <td>183</td>\n",
       "      <td>64</td>\n",
       "      <td>0</td>\n",
       "      <td>0</td>\n",
       "      <td>23.3</td>\n",
       "      <td>0.672</td>\n",
       "      <td>32</td>\n",
       "      <td>1</td>\n",
       "    </tr>\n",
       "    <tr>\n",
       "      <td>3</td>\n",
       "      <td>1</td>\n",
       "      <td>89</td>\n",
       "      <td>66</td>\n",
       "      <td>23</td>\n",
       "      <td>94</td>\n",
       "      <td>28.1</td>\n",
       "      <td>0.167</td>\n",
       "      <td>21</td>\n",
       "      <td>0</td>\n",
       "    </tr>\n",
       "  </tbody>\n",
       "</table>\n",
       "</div>"
      ],
      "text/plain": [
       "   Pregnancies  Glucose  BloodPressure  SkinThickness  Insulin   BMI  \\\n",
       "0            6      148             72             35        0  33.6   \n",
       "1            1       85             66             29        0  26.6   \n",
       "2            8      183             64              0        0  23.3   \n",
       "3            1       89             66             23       94  28.1   \n",
       "\n",
       "   DiabetesPedigreeFunction  Age  Outcome  \n",
       "0                     0.627   50        1  \n",
       "1                     0.351   31        0  \n",
       "2                     0.672   32        1  \n",
       "3                     0.167   21        0  "
      ]
     },
     "execution_count": 48,
     "metadata": {},
     "output_type": "execute_result"
    }
   ],
   "source": [
    "#(b)\n",
    "dtafrm_diab.head(4)"
   ]
  },
  {
   "cell_type": "code",
   "execution_count": 47,
   "metadata": {},
   "outputs": [
    {
     "name": "stdout",
     "output_type": "stream",
     "text": [
      "(768, 9)\n"
     ]
    }
   ],
   "source": [
    "print(dtafrm_diab.shape)"
   ]
  },
  {
   "cell_type": "code",
   "execution_count": 50,
   "metadata": {},
   "outputs": [],
   "source": [
    "#(c)\n",
    "index=np.arange(dtafrm_diab.shape[0])\n",
    "np.random.shuffle(index)"
   ]
  },
  {
   "cell_type": "code",
   "execution_count": 53,
   "metadata": {},
   "outputs": [],
   "source": [
    "split=round(index.shape[0]*0.8)\n",
    "trn_indx=index[0:split-1]\n",
    "tst_indx=index[split:]\n",
    "trn_data=dtafrm_diab.iloc[trn_indx]\n",
    "tst_data=dtafrm_diab.iloc[tst_indx]"
   ]
  },
  {
   "cell_type": "code",
   "execution_count": 55,
   "metadata": {},
   "outputs": [
    {
     "data": {
      "text/html": [
       "<div>\n",
       "<style scoped>\n",
       "    .dataframe tbody tr th:only-of-type {\n",
       "        vertical-align: middle;\n",
       "    }\n",
       "\n",
       "    .dataframe tbody tr th {\n",
       "        vertical-align: top;\n",
       "    }\n",
       "\n",
       "    .dataframe thead th {\n",
       "        text-align: right;\n",
       "    }\n",
       "</style>\n",
       "<table border=\"1\" class=\"dataframe\">\n",
       "  <thead>\n",
       "    <tr style=\"text-align: right;\">\n",
       "      <th></th>\n",
       "      <th>Pregnancies</th>\n",
       "      <th>Glucose</th>\n",
       "      <th>BloodPressure</th>\n",
       "      <th>SkinThickness</th>\n",
       "      <th>Insulin</th>\n",
       "      <th>BMI</th>\n",
       "      <th>DiabetesPedigreeFunction</th>\n",
       "      <th>Age</th>\n",
       "      <th>Outcome</th>\n",
       "    </tr>\n",
       "  </thead>\n",
       "  <tbody>\n",
       "    <tr>\n",
       "      <td>79</td>\n",
       "      <td>2</td>\n",
       "      <td>112</td>\n",
       "      <td>66</td>\n",
       "      <td>22</td>\n",
       "      <td>0</td>\n",
       "      <td>25.0</td>\n",
       "      <td>0.307</td>\n",
       "      <td>24</td>\n",
       "      <td>0</td>\n",
       "    </tr>\n",
       "    <tr>\n",
       "      <td>28</td>\n",
       "      <td>13</td>\n",
       "      <td>145</td>\n",
       "      <td>82</td>\n",
       "      <td>19</td>\n",
       "      <td>110</td>\n",
       "      <td>22.2</td>\n",
       "      <td>0.245</td>\n",
       "      <td>57</td>\n",
       "      <td>0</td>\n",
       "    </tr>\n",
       "    <tr>\n",
       "      <td>45</td>\n",
       "      <td>0</td>\n",
       "      <td>180</td>\n",
       "      <td>66</td>\n",
       "      <td>39</td>\n",
       "      <td>0</td>\n",
       "      <td>42.0</td>\n",
       "      <td>1.893</td>\n",
       "      <td>25</td>\n",
       "      <td>1</td>\n",
       "    </tr>\n",
       "    <tr>\n",
       "      <td>349</td>\n",
       "      <td>5</td>\n",
       "      <td>0</td>\n",
       "      <td>80</td>\n",
       "      <td>32</td>\n",
       "      <td>0</td>\n",
       "      <td>41.0</td>\n",
       "      <td>0.346</td>\n",
       "      <td>37</td>\n",
       "      <td>1</td>\n",
       "    </tr>\n",
       "    <tr>\n",
       "      <td>681</td>\n",
       "      <td>0</td>\n",
       "      <td>162</td>\n",
       "      <td>76</td>\n",
       "      <td>36</td>\n",
       "      <td>0</td>\n",
       "      <td>49.6</td>\n",
       "      <td>0.364</td>\n",
       "      <td>26</td>\n",
       "      <td>1</td>\n",
       "    </tr>\n",
       "  </tbody>\n",
       "</table>\n",
       "</div>"
      ],
      "text/plain": [
       "     Pregnancies  Glucose  BloodPressure  SkinThickness  Insulin   BMI  \\\n",
       "79             2      112             66             22        0  25.0   \n",
       "28            13      145             82             19      110  22.2   \n",
       "45             0      180             66             39        0  42.0   \n",
       "349            5        0             80             32        0  41.0   \n",
       "681            0      162             76             36        0  49.6   \n",
       "\n",
       "     DiabetesPedigreeFunction  Age  Outcome  \n",
       "79                      0.307   24        0  \n",
       "28                      0.245   57        0  \n",
       "45                      1.893   25        1  \n",
       "349                     0.346   37        1  \n",
       "681                     0.364   26        1  "
      ]
     },
     "execution_count": 55,
     "metadata": {},
     "output_type": "execute_result"
    }
   ],
   "source": [
    "trn_data.head()"
   ]
  },
  {
   "cell_type": "code",
   "execution_count": 56,
   "metadata": {},
   "outputs": [
    {
     "data": {
      "text/html": [
       "<div>\n",
       "<style scoped>\n",
       "    .dataframe tbody tr th:only-of-type {\n",
       "        vertical-align: middle;\n",
       "    }\n",
       "\n",
       "    .dataframe tbody tr th {\n",
       "        vertical-align: top;\n",
       "    }\n",
       "\n",
       "    .dataframe thead th {\n",
       "        text-align: right;\n",
       "    }\n",
       "</style>\n",
       "<table border=\"1\" class=\"dataframe\">\n",
       "  <thead>\n",
       "    <tr style=\"text-align: right;\">\n",
       "      <th></th>\n",
       "      <th>Pregnancies</th>\n",
       "      <th>Glucose</th>\n",
       "      <th>BloodPressure</th>\n",
       "      <th>SkinThickness</th>\n",
       "      <th>Insulin</th>\n",
       "      <th>BMI</th>\n",
       "      <th>DiabetesPedigreeFunction</th>\n",
       "      <th>Age</th>\n",
       "      <th>Outcome</th>\n",
       "    </tr>\n",
       "  </thead>\n",
       "  <tbody>\n",
       "    <tr>\n",
       "      <td>234</td>\n",
       "      <td>3</td>\n",
       "      <td>74</td>\n",
       "      <td>68</td>\n",
       "      <td>28</td>\n",
       "      <td>45</td>\n",
       "      <td>29.7</td>\n",
       "      <td>0.293</td>\n",
       "      <td>23</td>\n",
       "      <td>0</td>\n",
       "    </tr>\n",
       "    <tr>\n",
       "      <td>735</td>\n",
       "      <td>4</td>\n",
       "      <td>95</td>\n",
       "      <td>60</td>\n",
       "      <td>32</td>\n",
       "      <td>0</td>\n",
       "      <td>35.4</td>\n",
       "      <td>0.284</td>\n",
       "      <td>28</td>\n",
       "      <td>0</td>\n",
       "    </tr>\n",
       "    <tr>\n",
       "      <td>655</td>\n",
       "      <td>2</td>\n",
       "      <td>155</td>\n",
       "      <td>52</td>\n",
       "      <td>27</td>\n",
       "      <td>540</td>\n",
       "      <td>38.7</td>\n",
       "      <td>0.240</td>\n",
       "      <td>25</td>\n",
       "      <td>1</td>\n",
       "    </tr>\n",
       "    <tr>\n",
       "      <td>244</td>\n",
       "      <td>2</td>\n",
       "      <td>146</td>\n",
       "      <td>76</td>\n",
       "      <td>35</td>\n",
       "      <td>194</td>\n",
       "      <td>38.2</td>\n",
       "      <td>0.329</td>\n",
       "      <td>29</td>\n",
       "      <td>0</td>\n",
       "    </tr>\n",
       "    <tr>\n",
       "      <td>542</td>\n",
       "      <td>10</td>\n",
       "      <td>90</td>\n",
       "      <td>85</td>\n",
       "      <td>32</td>\n",
       "      <td>0</td>\n",
       "      <td>34.9</td>\n",
       "      <td>0.825</td>\n",
       "      <td>56</td>\n",
       "      <td>1</td>\n",
       "    </tr>\n",
       "  </tbody>\n",
       "</table>\n",
       "</div>"
      ],
      "text/plain": [
       "     Pregnancies  Glucose  BloodPressure  SkinThickness  Insulin   BMI  \\\n",
       "234            3       74             68             28       45  29.7   \n",
       "735            4       95             60             32        0  35.4   \n",
       "655            2      155             52             27      540  38.7   \n",
       "244            2      146             76             35      194  38.2   \n",
       "542           10       90             85             32        0  34.9   \n",
       "\n",
       "     DiabetesPedigreeFunction  Age  Outcome  \n",
       "234                     0.293   23        0  \n",
       "735                     0.284   28        0  \n",
       "655                     0.240   25        1  \n",
       "244                     0.329   29        0  \n",
       "542                     0.825   56        1  "
      ]
     },
     "execution_count": 56,
     "metadata": {},
     "output_type": "execute_result"
    }
   ],
   "source": [
    "tst_data.head()"
   ]
  },
  {
   "cell_type": "code",
   "execution_count": 58,
   "metadata": {},
   "outputs": [
    {
     "name": "stdout",
     "output_type": "stream",
     "text": [
      "[[3.000e+00 1.480e+02 6.600e+01 ... 3.250e+01 2.560e-01 2.200e+01]\n",
      " [1.200e+01 1.510e+02 7.000e+01 ... 4.180e+01 7.420e-01 3.800e+01]\n",
      " [1.000e+01 1.390e+02 8.000e+01 ... 2.710e+01 1.441e+00 5.700e+01]\n",
      " ...\n",
      " [2.000e+00 9.600e+01 6.800e+01 ... 2.110e+01 6.470e-01 2.600e+01]\n",
      " [1.000e+01 1.680e+02 7.400e+01 ... 3.800e+01 5.370e-01 3.400e+01]\n",
      " [2.000e+00 8.700e+01 5.800e+01 ... 3.270e+01 1.660e-01 2.500e+01]]\n"
     ]
    }
   ],
   "source": [
    "#(d)\n",
    "\n",
    "from sklearn.model_selection import train_test_split\n",
    "arr=dtafrm_diab.values\n",
    "X=arr[:,0:8]\n",
    "Y=arr[:,8]\n",
    "X_train,X_test,y_train,y_test=train_test_split(X,Y,test_size=0.2)\n",
    "print(X_train)"
   ]
  },
  {
   "cell_type": "code",
   "execution_count": 59,
   "metadata": {},
   "outputs": [],
   "source": [
    "#(e)\n",
    "\n",
    "from sklearn.preprocessing import StandardScaler\n",
    "scaler=StandardScaler().fit(X_train)\n",
    "X_train=scaler.transform(X_train)\n",
    "X_test=scaler.transform(X_test)"
   ]
  },
  {
   "cell_type": "code",
   "execution_count": 60,
   "metadata": {},
   "outputs": [
    {
     "data": {
      "text/plain": [
       "KNeighborsClassifier(algorithm='auto', leaf_size=30, metric='minkowski',\n",
       "                     metric_params=None, n_jobs=None, n_neighbors=5, p=2,\n",
       "                     weights='uniform')"
      ]
     },
     "execution_count": 60,
     "metadata": {},
     "output_type": "execute_result"
    }
   ],
   "source": [
    "#(f)\n",
    "\n",
    "from sklearn.neighbors import KNeighborsClassifier\n",
    "classifier=KNeighborsClassifier(n_neighbors=5)\n",
    "classifier.fit(X_train,y_train)"
   ]
  },
  {
   "cell_type": "code",
   "execution_count": 61,
   "metadata": {},
   "outputs": [],
   "source": [
    "y_pred=classifier.predict(X_test)"
   ]
  },
  {
   "cell_type": "code",
   "execution_count": 62,
   "metadata": {},
   "outputs": [
    {
     "name": "stdout",
     "output_type": "stream",
     "text": [
      "[0. 1. 0. 0. 0. 0. 1. 0. 1. 0. 0. 0. 0. 0. 0. 1. 1. 0. 1. 0. 1. 0. 0. 0.\n",
      " 0. 0. 0. 0. 0. 0. 0. 0. 0. 1. 0. 1. 1. 1. 0. 0. 0. 0. 1. 1. 1. 0. 0. 0.\n",
      " 0. 1. 1. 0. 1. 0. 1. 0. 0. 0. 1. 0. 0. 0. 1. 1. 0. 0. 0. 0. 0. 0. 0. 1.\n",
      " 0. 1. 1. 0. 0. 0. 1. 0. 0. 1. 1. 0. 0. 0. 1. 0. 0. 0. 0. 0. 0. 0. 1. 0.\n",
      " 0. 0. 0. 0. 1. 0. 1. 0. 0. 0. 0. 1. 0. 1. 0. 1. 0. 0. 0. 0. 0. 0. 0. 0.\n",
      " 1. 0. 0. 0. 1. 0. 0. 0. 1. 0. 0. 1. 0. 0. 0. 1. 0. 0. 1. 0. 0. 0. 0. 0.\n",
      " 0. 1. 0. 1. 0. 1. 0. 0. 0. 0.]\n"
     ]
    }
   ],
   "source": [
    "print(y_pred)"
   ]
  },
  {
   "cell_type": "code",
   "execution_count": 64,
   "metadata": {},
   "outputs": [
    {
     "name": "stdout",
     "output_type": "stream",
     "text": [
      "[[80 15]\n",
      " [31 28]]\n"
     ]
    }
   ],
   "source": [
    "#(g)\n",
    "from sklearn.metrics import classification_report, confusion_matrix\n",
    "c_matrix=confusion_matrix(y_test,y_pred)\n",
    "print(c_matrix)"
   ]
  },
  {
   "cell_type": "code",
   "execution_count": 65,
   "metadata": {},
   "outputs": [
    {
     "name": "stdout",
     "output_type": "stream",
     "text": [
      "              precision    recall  f1-score   support\n",
      "\n",
      "         0.0       0.72      0.84      0.78        95\n",
      "         1.0       0.65      0.47      0.55        59\n",
      "\n",
      "    accuracy                           0.70       154\n",
      "   macro avg       0.69      0.66      0.66       154\n",
      "weighted avg       0.69      0.70      0.69       154\n",
      "\n"
     ]
    }
   ],
   "source": [
    "print(classification_report(y_test,y_pred))"
   ]
  },
  {
   "cell_type": "code",
   "execution_count": 67,
   "metadata": {},
   "outputs": [
    {
     "name": "stdout",
     "output_type": "stream",
     "text": [
      "Crct predictions are  108  out of  154\n"
     ]
    }
   ],
   "source": [
    "#(h)\n",
    "print(\"Crct predictions are \",c_matrix[0][0]+c_matrix[1][1],\" out of \",np.sum(c_matrix))"
   ]
  },
  {
   "cell_type": "code",
   "execution_count": 68,
   "metadata": {},
   "outputs": [],
   "source": [
    "#(i)\n",
    "def acc_func(c_matrix):\n",
    "    return (c_matrix[0][0]+c_matrix[1][1])/(np.sum(c_matrix))\n",
    "def KNN(k,X_train,X_test,y_train,y_test):\n",
    "    classifier=KNeighborsClassifier(n_neighbors=k)\n",
    "    classifier.fit(X_train,y_train)\n",
    "    y_pred=classifier.predict(X_test)\n",
    "    c_matrix=confusion_matrix(y_test,y_pred)\n",
    "    return acc_func(c_matrix)"
   ]
  },
  {
   "cell_type": "code",
   "execution_count": 69,
   "metadata": {},
   "outputs": [
    {
     "name": "stdout",
     "output_type": "stream",
     "text": [
      "1 0.6818181818181818\n",
      "2 0.7142857142857143\n",
      "3 0.7272727272727273\n",
      "4 0.6883116883116883\n",
      "5 0.7012987012987013\n",
      "6 0.7012987012987013\n",
      "7 0.7012987012987013\n",
      "8 0.7142857142857143\n",
      "9 0.7142857142857143\n",
      "10 0.7207792207792207\n",
      "11 0.7012987012987013\n",
      "12 0.7142857142857143\n",
      "13 0.7207792207792207\n",
      "14 0.7467532467532467\n",
      "15 0.7272727272727273\n",
      "16 0.7272727272727273\n"
     ]
    }
   ],
   "source": [
    "k=[1,2,3,4,5,6,7,8,9,10,11,12,13,14,15,16]\n",
    "k_accur=[]\n",
    "for ki in k:\n",
    "    accuracy=KNN(ki,X_train,X_test,y_train,y_test)\n",
    "    print(ki,accuracy)\n",
    "    k_accur.append(accuracy)"
   ]
  },
  {
   "cell_type": "code",
   "execution_count": 73,
   "metadata": {},
   "outputs": [
    {
     "data": {
      "image/png": "[encoded data removed]",
      "text/plain": [
       "<Figure size 432x288 with 1 Axes>"
      ]
     },
     "metadata": {
      "needs_background": "light"
     },
     "output_type": "display_data"
    }
   ],
   "source": [
    "plt.plot(k,k_accur)\n",
    "plt.xlabel('K value')\n",
    "plt.ylabel('Accuracy')\n",
    "plt.show()"
   ]
  },
  {
   "cell_type": "code",
   "execution_count": null,
   "metadata": {},
   "outputs": [],
   "source": []
  },
  {
   "cell_type": "code",
   "execution_count": null,
   "metadata": {},
   "outputs": [],
   "source": []
  }
 ],
 "metadata": {
  "kernelspec": {
   "display_name": "Python 3",
   "language": "python",
   "name": "python3"
  },
  "language_info": {
   "codemirror_mode": {
    "name": "ipython",
    "version": 3
   },
   "file_extension": ".py",
   "mimetype": "text/x-python",
   "name": "python",
   "nbconvert_exporter": "python",
   "pygments_lexer": "ipython3",
   "version": "3.7.6"
  }
 },
 "nbformat": 4,
 "nbformat_minor": 2
}
